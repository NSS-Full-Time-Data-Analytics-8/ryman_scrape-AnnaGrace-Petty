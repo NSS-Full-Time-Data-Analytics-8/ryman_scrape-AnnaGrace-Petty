{
 "cells": [
  {
   "cell_type": "code",
   "execution_count": null,
   "id": "af2b5f82",
   "metadata": {},
   "outputs": [],
   "source": [
    "import requests"
   ]
  },
  {
   "cell_type": "code",
   "execution_count": null,
   "id": "2579dc07",
   "metadata": {},
   "outputs": [],
   "source": [
    "URL = 'https://ryman.com/events/'\n",
    "\n",
    "ryman = requests.get(URL)"
   ]
  },
  {
   "cell_type": "code",
   "execution_count": null,
   "id": "0a07c231",
   "metadata": {},
   "outputs": [],
   "source": [
    "type(ryman)"
   ]
  },
  {
   "cell_type": "code",
   "execution_count": null,
   "id": "90109bd3",
   "metadata": {},
   "outputs": [],
   "source": [
    "ryman.status_code"
   ]
  },
  {
   "cell_type": "code",
   "execution_count": null,
   "id": "87ea138d",
   "metadata": {},
   "outputs": [],
   "source": [
    "ryman.text"
   ]
  },
  {
   "cell_type": "code",
   "execution_count": null,
   "id": "70c351e0",
   "metadata": {},
   "outputs": [],
   "source": [
    "from bs4 import BeautifulSoup as BS"
   ]
  },
  {
   "cell_type": "code",
   "execution_count": null,
   "id": "ae727601",
   "metadata": {},
   "outputs": [],
   "source": [
    "soup = BS(ryman.text)"
   ]
  },
  {
   "cell_type": "code",
   "execution_count": null,
   "id": "07e8279f",
   "metadata": {},
   "outputs": [],
   "source": [
    "soup"
   ]
  },
  {
   "cell_type": "code",
   "execution_count": null,
   "id": "34310acc",
   "metadata": {},
   "outputs": [],
   "source": [
    "print(soup.prettify())"
   ]
  },
  {
   "cell_type": "code",
   "execution_count": null,
   "id": "169b6e3e",
   "metadata": {},
   "outputs": [],
   "source": [
    "soup.findAll('title')"
   ]
  },
  {
   "cell_type": "code",
   "execution_count": null,
   "id": "0c2e09ea",
   "metadata": {},
   "outputs": [],
   "source": [
    "soup.find('a', attrs={'class' : 'tribe-event-url'})"
   ]
  },
  {
   "cell_type": "code",
   "execution_count": null,
   "id": "b4b39dc8",
   "metadata": {},
   "outputs": [],
   "source": [
    "soup.findAll('a', attrs={'class': 'tribe-event-url'})"
   ]
  },
  {
   "cell_type": "code",
   "execution_count": null,
   "id": "dcb4c349",
   "metadata": {},
   "outputs": [],
   "source": [
    "headliner = soup.findAll('a', attrs={'class': 'tribe-event-url'})"
   ]
  },
  {
   "cell_type": "code",
   "execution_count": null,
   "id": "26b27785",
   "metadata": {},
   "outputs": [],
   "source": [
    "headliner[5].get('title')"
   ]
  },
  {
   "cell_type": "code",
   "execution_count": null,
   "id": "37840911",
   "metadata": {},
   "outputs": [],
   "source": []
  }
 ],
 "metadata": {
  "kernelspec": {
   "display_name": "Python 3 (ipykernel)",
   "language": "python",
   "name": "python3"
  },
  "language_info": {
   "codemirror_mode": {
    "name": "ipython",
    "version": 3
   },
   "file_extension": ".py",
   "mimetype": "text/x-python",
   "name": "python",
   "nbconvert_exporter": "python",
   "pygments_lexer": "ipython3",
   "version": "3.9.13"
  }
 },
 "nbformat": 4,
 "nbformat_minor": 5
}
