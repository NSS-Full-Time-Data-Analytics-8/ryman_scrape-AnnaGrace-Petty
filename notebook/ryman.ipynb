{
 "cells": [
  {
   "cell_type": "code",
   "execution_count": null,
   "id": "af2b5f82",
   "metadata": {},
   "outputs": [],
   "source": [
    "import requests"
   ]
  },
  {
   "cell_type": "code",
   "execution_count": null,
   "id": "2579dc07",
   "metadata": {},
   "outputs": [],
   "source": [
    "URL = 'https://ryman.com/events/'\n",
    "\n",
    "ryman = requests.get(URL)"
   ]
  },
  {
   "cell_type": "code",
   "execution_count": null,
   "id": "0a07c231",
   "metadata": {},
   "outputs": [],
   "source": [
    "type(ryman)"
   ]
  },
  {
   "cell_type": "code",
   "execution_count": null,
   "id": "90109bd3",
   "metadata": {},
   "outputs": [],
   "source": [
    "ryman.status_code"
   ]
  },
  {
   "cell_type": "code",
   "execution_count": null,
   "id": "87ea138d",
   "metadata": {},
   "outputs": [],
   "source": [
    "ryman.text"
   ]
  },
  {
   "cell_type": "code",
   "execution_count": null,
   "id": "70c351e0",
   "metadata": {},
   "outputs": [],
   "source": [
    "from bs4 import BeautifulSoup as BS"
   ]
  },
  {
   "cell_type": "code",
   "execution_count": null,
   "id": "ae727601",
   "metadata": {},
   "outputs": [],
   "source": [
    "soup = BS(ryman.text)"
   ]
  },
  {
   "cell_type": "code",
   "execution_count": null,
   "id": "07e8279f",
   "metadata": {},
   "outputs": [],
   "source": [
    "soup"
   ]
  },
  {
   "cell_type": "code",
   "execution_count": null,
   "id": "34310acc",
   "metadata": {},
   "outputs": [],
   "source": [
    "print(soup.prettify())"
   ]
  },
  {
   "cell_type": "code",
   "execution_count": null,
   "id": "169b6e3e",
   "metadata": {},
   "outputs": [],
   "source": [
    "soup.findAll('title')"
   ]
  },
  {
   "cell_type": "code",
   "execution_count": null,
   "id": "0c2e09ea",
   "metadata": {},
   "outputs": [],
   "source": [
    "soup.find('a', attrs={'class' : 'tribe-event-url'})"
   ]
  },
  {
   "cell_type": "code",
   "execution_count": null,
   "id": "b4b39dc8",
   "metadata": {},
   "outputs": [],
   "source": [
    "soup.findAll('a', attrs={'class': 'tribe-event-url'})"
   ]
  },
  {
   "cell_type": "code",
   "execution_count": null,
   "id": "dcb4c349",
   "metadata": {},
   "outputs": [],
   "source": [
    "headliner = soup.findAll('a', attrs={'class': 'tribe-event-url'})"
   ]
  },
  {
   "cell_type": "code",
   "execution_count": null,
   "id": "26b27785",
   "metadata": {},
   "outputs": [],
   "source": [
    "headliner[0].get('title')"
   ]
  },
  {
   "cell_type": "code",
   "execution_count": null,
   "id": "1dc1af04",
   "metadata": {},
   "outputs": [],
   "source": [
    "headliner[4].get('title')"
   ]
  },
  {
   "cell_type": "code",
   "execution_count": null,
   "id": "5b46bbc9",
   "metadata": {},
   "outputs": [],
   "source": [
    "headliner_list = [x.get('title') for x in headliner]"
   ]
  },
  {
   "cell_type": "code",
   "execution_count": null,
   "id": "2ad9f82a",
   "metadata": {},
   "outputs": [],
   "source": [
    "headliner_list"
   ]
  },
  {
   "cell_type": "code",
   "execution_count": null,
   "id": "241c5945",
   "metadata": {},
   "outputs": [],
   "source": [
    "soup.findAll('div')[0]"
   ]
  },
  {
   "cell_type": "code",
   "execution_count": null,
   "id": "9ba456b0",
   "metadata": {},
   "outputs": [],
   "source": [
    "soup.findAll('div')[0].find('p')"
   ]
  },
  {
   "cell_type": "code",
   "execution_count": null,
   "id": "1766b632",
   "metadata": {},
   "outputs": [],
   "source": [
    "soup.findAll('div')[0].find('p').text"
   ]
  },
  {
   "cell_type": "code",
   "execution_count": null,
   "id": "fd817afe",
   "metadata": {},
   "outputs": [],
   "source": [
    "soup.findAll('div', attrs={'class': 'tribe-event-schedule-details'})"
   ]
  },
  {
   "cell_type": "code",
   "execution_count": null,
   "id": "5e33a99d",
   "metadata": {},
   "outputs": [],
   "source": [
    "date_time = soup.findAll('div', attrs={'class': 'tribe-event-schedule-details'})"
   ]
  },
  {
   "cell_type": "code",
   "execution_count": null,
   "id": "162c8546",
   "metadata": {},
   "outputs": [],
   "source": [
    "date_time[4].text"
   ]
  },
  {
   "cell_type": "code",
   "execution_count": null,
   "id": "33f973f4",
   "metadata": {},
   "outputs": [],
   "source": [
    "date_time_list = [x.text for x in date_time]"
   ]
  },
  {
   "cell_type": "code",
   "execution_count": null,
   "id": "b1ea645e",
   "metadata": {},
   "outputs": [],
   "source": [
    "date_time_list"
   ]
  },
  {
   "cell_type": "code",
   "execution_count": null,
   "id": "b3a0279b",
   "metadata": {},
   "outputs": [],
   "source": [
    "type(date_time_list)"
   ]
  },
  {
   "cell_type": "code",
   "execution_count": null,
   "id": "4d1397bf",
   "metadata": {},
   "outputs": [],
   "source": [
    "date_time_list[0:5]"
   ]
  },
  {
   "cell_type": "code",
   "execution_count": null,
   "id": "7d6d4fe3",
   "metadata": {},
   "outputs": [],
   "source": [
    "date_time_list = [s.replace('\\n', '') for s in date_time_list]\n",
    "date_time_list "
   ]
  },
  {
   "cell_type": "code",
   "execution_count": null,
   "id": "636e8dec",
   "metadata": {},
   "outputs": [],
   "source": [
    "no_weekday = [i.split('y, ')[1] for i in date_time_list]\n",
    "no_weekday"
   ]
  },
  {
   "cell_type": "code",
   "execution_count": null,
   "id": "8d5ec6fb",
   "metadata": {},
   "outputs": [],
   "source": [
    "date = [i.split(' at ')[0] for i in no_weekday]\n",
    "date"
   ]
  },
  {
   "cell_type": "code",
   "execution_count": null,
   "id": "fc8e551f",
   "metadata": {},
   "outputs": [],
   "source": [
    "time = [i.split(' at ')[1] for i in no_weekday]\n",
    "time"
   ]
  },
  {
   "cell_type": "code",
   "execution_count": null,
   "id": "a0337a20",
   "metadata": {},
   "outputs": [],
   "source": [
    "type(time)"
   ]
  },
  {
   "cell_type": "code",
   "execution_count": null,
   "id": "88cdb233",
   "metadata": {},
   "outputs": [],
   "source": [
    "import pandas as pd"
   ]
  },
  {
   "cell_type": "code",
   "execution_count": null,
   "id": "12a590f4",
   "metadata": {},
   "outputs": [],
   "source": [
    "headliner_df = pd.DataFrame(headliner_list, columns=['headliner'])\n",
    "print(headliner_df)"
   ]
  },
  {
   "cell_type": "code",
   "execution_count": null,
   "id": "ce90d885",
   "metadata": {},
   "outputs": [],
   "source": [
    "hdt_list  = list(zip(headliner_list, date, time))\n",
    "\n",
    "performances_df = pd.DataFrame(hdt_list, columns = ['headliner', 'date', 'time'])\n",
    "\n",
    "performances_df.head()"
   ]
  },
  {
   "cell_type": "code",
   "execution_count": null,
   "id": "62d56af5",
   "metadata": {},
   "outputs": [],
   "source": []
  }
 ],
 "metadata": {
  "kernelspec": {
   "display_name": "Python 3 (ipykernel)",
   "language": "python",
   "name": "python3"
  },
  "language_info": {
   "codemirror_mode": {
    "name": "ipython",
    "version": 3
   },
   "file_extension": ".py",
   "mimetype": "text/x-python",
   "name": "python",
   "nbconvert_exporter": "python",
   "pygments_lexer": "ipython3",
   "version": "3.9.13"
  }
 },
 "nbformat": 4,
 "nbformat_minor": 5
}
